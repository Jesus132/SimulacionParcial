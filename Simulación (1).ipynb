{
 "cells": [
  {
   "cell_type": "markdown",
   "metadata": {},
   "source": [
    "# Análisis de entrada"
   ]
  },
  {
   "cell_type": "markdown",
   "metadata": {},
   "source": [
    "Jesus Davidad Macias T00042139 \n",
    "\n",
    "Realizar análisis a los datos suministrados.\n",
    "\n",
    "-Verificar IID.\n",
    "\n",
    "-Encontrar la distribución de probabilidad que mejor se ajusta a los datos.\n"
   ]
  },
  {
   "cell_type": "code",
   "execution_count": null,
   "metadata": {
    "scrolled": true
   },
   "outputs": [],
   "source": [
    "import numpy as np\n",
    "from numpy import *\n",
    "from re import findall\n",
    "from scipy import stats\n",
    "import matplotlib.pyplot as plt\n",
    "from statsmodels.tsa import stattools\n",
    "from statsmodels.graphics.tsaplots import plot_acf,acf\n",
    "     \n",
    "def Mejor_Distribucion(y):\n",
    "    Distribuciones = [\"expon\", \"gamma\", \"lognorm\", \"weibull_min\", \"weibull_max\"] \n",
    "    D_Valor = []\n",
    "    Parametros = {}\n",
    "    for Dist_Nombre in Distribuciones:\n",
    "        Dist = getattr(stats, Dist_Nombre)\n",
    "        P = Dist.fit(y)\n",
    "        Parametros[Dist_Nombre] = P\n",
    "        D, p = stats.kstest(y, Dist_Nombre, args=P)\n",
    "        D_Valor.append((Dist_Nombre, p))\n",
    "    \n",
    "    M_Dist, M_P = max(D_Valor, key=lambda item: item[1])\n",
    "    print(\"Mejor distribucion adecuada: \"+ str(M_Dist))\n",
    "    print(\"Mejor valor P: \"+ str(M_P))\n",
    "    print(\"Parametros para el mejor ajuste: \"+ str(Parametros[M_Dist]))\n",
    "\n",
    "    return M_Dist, M_P, Parametros[M_Dist]\n",
    "\n",
    "if __name__ == \"__main__\":\n",
    "    aux_y = []\n",
    "    data=open(\"data.txt\",\"r\")\n",
    "    for i in data:\n",
    "        aux_y.append(i)\n",
    "    y=np.array(aux_y, dtype=float)\n",
    "    x=np.array([[i+1] for i in range(len(y))]) \n",
    "\n",
    "    print(Mejor_Distribucion(y))\n",
    "    Pendiente, Intercepto, C_C, V_P, Error_Extandar = stats.linregress(x[:,0], y)\n",
    "    print(\"Pendiente (B1):\",Pendiente)\n",
    "    print(\"Intercepto (B1)\", Intercepto)\n",
    "    print(\"Coeficiente de correlación:\", C_C)\n",
    "    print(\"Valor P asociado a B1:\", V_P)\n",
    "    print(\"Error estándar de B1:\" , Error_Extandar)\n",
    "    print(\"R-Cuadrado:\", C_C**2)\n",
    "    plt.plot(x,y,'o',label='Datos')\n",
    "    plt.plot(x, Intercepto + Pendiente * x, 'r', label='Ajuste')\n",
    "    plt.xticks(x)\n",
    "    plt.legend()\n",
    "    plt.show()\n",
    "    plot_acf(y)\n",
    "    plt.xticks(x)\n",
    "    plt.show()"
   ]
  }
 ],
 "metadata": {
  "kernelspec": {
   "display_name": "Python 3",
   "language": "python",
   "name": "python3"
  },
  "language_info": {
   "codemirror_mode": {
    "name": "ipython",
    "version": 3
   },
   "file_extension": ".py",
   "mimetype": "text/x-python",
   "name": "python",
   "nbconvert_exporter": "python",
   "pygments_lexer": "ipython3",
   "version": "3.7.1"
  }
 },
 "nbformat": 4,
 "nbformat_minor": 2
}
