{
 "cells": [
  {
   "cell_type": "markdown",
   "metadata": {},
   "source": [
    "# Análisis de entrada"
   ]
  },
  {
   "cell_type": "markdown",
   "metadata": {},
   "source": [
    "Jesus Davidad Macias T00042139 \n",
    "\n",
    "Realizar análisis a los datos suministrados.\n",
    "\n",
    "-Verificar IID.\n",
    "\n",
    "-Encontrar la distribución de probabilidad que mejor se ajusta a los datos.\n"
   ]
  },
  {
   "cell_type": "code",
   "execution_count": 3,
   "metadata": {
    "scrolled": true
   },
   "outputs": [
    {
     "name": "stdout",
     "output_type": "stream",
     "text": [
      "Pendiente (B1): -1.3082608695652174\n",
      "Intercepto (B1) 87.92347826086956\n",
      "Coeficiente de correlación: -0.23668618891467122\n",
      "Valor p asociado a B1: 0.27688253796525614\n",
      "Error estándar de B1: 1.171906877908306\n",
      "R-Cuadrado: 0.056020352022951435\n"
     ]
    },
    {
     "data": {
      "image/png": "[encoded data removed]",
      "text/plain": [
       "<Figure size 432x288 with 1 Axes>"
      ]
     },
     "metadata": {
      "needs_background": "light"
     },
     "output_type": "display_data"
    },
    {
     "data": {
      "image/png": "[encoded data removed]",
      "text/plain": [
       "<Figure size 432x288 with 1 Axes>"
      ]
     },
     "metadata": {
      "needs_background": "light"
     },
     "output_type": "display_data"
    },
    {
     "name": "stdout",
     "output_type": "stream",
     "text": [
      "p value for expon = 0.17676106310204642\n",
      "p value for gamma = 0.9466259040999688\n",
      "p value for lognorm = 0.9655682669522782\n",
      "p value for weibull_min = 0.9087973297905438\n",
      "p value for weibull_max = 0.0\n",
      "Best fitting distribution: lognorm\n",
      "Best p value: 0.9655682669522782\n",
      "Parameters for the best fit: (0.437708237173866, -10.517081406288641, 75.27652049855152)\n",
      "('lognorm', 0.9655682669522782, (0.437708237173866, -10.517081406288641, 75.27652049855152))\n"
     ]
    }
   ],
   "source": [
    "from numpy import *\n",
    "import numpy as np\n",
    "import matplotlib.pyplot as plt\n",
    "from re import findall\n",
    "from scipy import stats\n",
    "from statsmodels.graphics.tsaplots import plot_acf,acf\n",
    "from statsmodels.tsa import stattools\n",
    "\n",
    "#Nombre de las distribuciones\n",
    "cdfs = [\n",
    "    \"expon\",           #Exponential\n",
    "    \"gamma\",           #Gamma\n",
    "    \"lognorm\",         #Log-Normal\n",
    "    \"weibull_min\",     #Minimum Weibull (see Frechet)\n",
    "    \"weibull_max\",     #Maximum Weibull (see Frechet)\n",
    "    ]      \n",
    "def read():#leemos los datos del data.txt que seran nuestros y\n",
    "    data = []\n",
    "    with open(\"data.txt\") as d:\n",
    "        for i in d.readlines():\n",
    "            data.append(findall(r\"[\\d]+.[\\d]+\", i))\n",
    "    return np.array(data, dtype=float)\n",
    "\n",
    "def generar_x(y):#función que nos genera los valores de x \n",
    "    x=np.array([[i+1] for i in range(len(y))])\n",
    "    return x\n",
    "\n",
    "def estimated_autocorrelation(x):\n",
    "    n = len(x)\n",
    "    variance = x.var()\n",
    "    x = x-x.mean()\n",
    "    r = np.correlate(x, x, mode = 'full')\n",
    "    result = r/(variance*n)\n",
    "    return result[result.size//2:]\n",
    "\n",
    "\n",
    "def get_best_distribution(data):\n",
    "    dist_results = []\n",
    "    params = {}\n",
    "    for dist_name in cdfs:\n",
    "        dist = getattr(stats, dist_name)\n",
    "        param = dist.fit(data)\n",
    "\n",
    "        params[dist_name] = param\n",
    "        # Applying the Kolmogorov-Smirnov test\n",
    "        D, p = stats.kstest(data, dist_name, args=param)\n",
    "        print(\"p value for \"+dist_name+\" = \"+str(p))\n",
    "        dist_results.append((dist_name, p))\n",
    "\n",
    "    # select the best fitted distribution\n",
    "    best_dist, best_p = (max(dist_results, key=lambda item: item[1]))\n",
    "    # store the name of the best fit and its p value\n",
    "\n",
    "    print(\"Best fitting distribution: \"+str(best_dist))\n",
    "    print(\"Best p value: \"+ str(best_p))\n",
    "    print(\"Parameters for the best fit: \"+ str(params[best_dist]))\n",
    "\n",
    "    return best_dist, best_p, params[best_dist]\n",
    "\n",
    "if __name__ == \"__main__\":\n",
    "\n",
    "    data = read()\n",
    "    y=data #datos y \n",
    "    datos_x=generar_x(y)\n",
    "    x=datos_x#datos x\n",
    "    \n",
    "    slope, intercept, r_value, p_value, std_err = stats.linregress(x[:,0], y[:,0])\n",
    "    print(\"Pendiente (B1):\",slope)\n",
    "    print(\"Intercepto (B1)\", intercept)\n",
    "    print(\"Coeficiente de correlación:\", r_value)\n",
    "    print(\"Valor p asociado a B1:\", p_value)\n",
    "    print(\"Error estándar de B1:\" , std_err)\n",
    "    print(\"R-Cuadrado:\", r_value**2)\n",
    "\n",
    "    plt.plot(x,y,'o',label='Datos')\n",
    "    plt.plot(x, intercept + slope*x, 'r', label='Ajuste')\n",
    "    plt.xticks(x)\n",
    "    plt.legend()\n",
    "    plt.show()\n",
    "\n",
    "    plot_acf(y[:,0])\n",
    "    plt.xticks(x)\n",
    "    plt.show()\n",
    "\n",
    "    print(get_best_distribution(y[:,0]))"
   ]
  },
  {
   "cell_type": "markdown",
   "metadata": {},
   "source": []
  }
 ],
 "metadata": {
  "kernelspec": {
   "display_name": "Python 3",
   "language": "python",
   "name": "python3"
  },
  "language_info": {
   "codemirror_mode": {
    "name": "ipython",
    "version": 3
   },
   "file_extension": ".py",
   "mimetype": "text/x-python",
   "name": "python",
   "nbconvert_exporter": "python",
   "pygments_lexer": "ipython3",
   "version": "3.7.1"
  }
 },
 "nbformat": 4,
 "nbformat_minor": 2
}
