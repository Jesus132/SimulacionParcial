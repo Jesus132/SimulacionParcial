{
 "cells": [
  {
   "cell_type": "markdown",
   "metadata": {},
   "source": [
    "Parcial de simulacion "
   ]
  },
  {
   "cell_type": "markdown",
   "metadata": {},
   "source": [
    "Jesus Davidad Macias T00042139\n",
    "Carlos Andres Pulido T00041219"
   ]
  },
  {
   "cell_type": "markdown",
   "metadata": {},
   "source": [
    "Contexto"
   ]
  },
  {
   "cell_type": "markdown",
   "metadata": {},
   "source": [
    "Se desea simular el comportamiento de un establecimiento comercial como una cola con servidor único (Single-server Queue). El establecimiento ofrece servicio continuo entre las 8 am y las 4 pm (8horas) y la disciplina de la cola es FIFO. Adicionalmente,  se sabe que los tiempos entre llegadas (minutos)siguen una distribución exponencial con λ=5/10 y los tiempos de servicio (minutos) siguen una distribución exponencial con λ=6/10. "
   ]
  },
  {
   "cell_type": "markdown",
   "metadata": {},
   "source": [
    "En dicha simulación se deben generar 1000 réplicas de forma aleatoria teniendo en cuenta el tiempo que ofrecía el establecimiento el cual era continuo entre las 8 am y las 4 pm (480 min). "
   ]
  },
  {
   "cell_type": "code",
   "execution_count": 2,
   "metadata": {},
   "outputs": [
    {
     "name": "stdout",
     "output_type": "stream",
     "text": [
      "Intervalo de confianza para el número de trabajos: (240.5010710594044, 241.04492894059558)\n",
      "Tiempo Medio de LLegada:  (0.4998503138932615, 0.5019908882808339)\n",
      "Tiempo Promedio de Servicio:  (0.7792451477127388, 0.7793205452775868)\n",
      "Tiempo Promedio de Retraso:  (185.26921060595188, 185.68104029193998)\n",
      "Tiempo Promedio de Espera:  (186.04848600371582, 186.46033058716637)\n",
      "Tasa de LLegada:  (0.49882424504996503, 0.4999571834750053)\n",
      "Tasa de Servicio:  (0.32079225865581595, 0.32082369594263893)\n",
      "Numero de Tiempo Promedio en la Cola:  (72.46761010467151, 72.67703470051066)\n",
      "Numero de Tiempo promedio en Servicio:  (0.30467614595577786, 0.3050508083915928)\n",
      "Numero Promediado en el Tiempo en el Nodo:  (72.7722869786896, 72.98208478083995)\n"
     ]
    }
   ],
   "source": [
    "import scipy.stats as sp\n",
    "from scipy.stats import expon, sem, t\n",
    "from statistics import mean\n",
    "\n",
    "Numero_Trabajo = [0.0 for i in range(1000)]\n",
    "T_llegada= [0.0 for i in range(1000)]\n",
    "T_Servicio= [0.0 for i in range(1000)]\n",
    "T_Retraso= [0.0 for i in range(1000)]\n",
    "T_Espera= [0.0 for i in range(1000)]\n",
    "Tasa_llegada= [0.0 for i in range(1000)]\n",
    "Tasa_Servicio= [0.0 for i in range(1000)]\n",
    "N_P_Cola= [0.0 for i in range(1000)]\n",
    "N_P_Servicio= [0.0 for i in range(1000)]\n",
    "N_P_Nodo= [0.0 for i in range(1000)]\n",
    "#Contador para saber las horas que lleva\n",
    "cont = 0\n",
    "a, s = [], []\n",
    "\n",
    "def Confianza(data):\n",
    "    n = len(data)\n",
    "    m = mean(data)\n",
    "    std_err  = sem(data)\n",
    "    h = std_err *t.ppf((1+0.95)/2,n-1)\n",
    "    start=(m-h)/2\n",
    "    end=(m+h)/2\n",
    "    return start,end\n",
    "\n",
    "for i in range(1000):\n",
    "\n",
    "    while(cont<480):\n",
    "        cont_a = expon.rvs(scale=2,size=1)\n",
    "        cont_s = expon.rvs(scale=1.6,size=1)\n",
    "        cont += cont_a\n",
    "        a.append(cont)\n",
    "        s.append(cont_s)\n",
    "\n",
    "    n=len(a)\n",
    "    c, d = [0.0 for i in range(n)], [0.0 for i in range(n)]\n",
    "    cont=0\n",
    "    while(cont <= n-2):\n",
    "    \tcont+=1\n",
    "    \tif(a[cont] < c[cont-1]):\n",
    "    \t\td[cont] = c[cont-1] - a[cont]\n",
    "    \tc[cont] = a[cont] + d[cont] + s[cont]\n",
    "    Numero_Trabajo[i]=n\n",
    "    T_llegada[i]=float(a[n-1]/n)\n",
    "    T_Servicio[i]=float(sum(s)/n)\n",
    "    T_Retraso[i]=float(sum(d)/n)\n",
    "    T_Espera[i]=float((sum(s)/n) + (sum(d)/n))\n",
    "    Tasa_llegada[i]=float(n/a[n-1])\n",
    "    Tasa_Servicio[i]=float(n/sum(s))\n",
    "    N_P_Cola[i]=float(sum(d)/c[n-1])\n",
    "    N_P_Servicio[i]=float(sum(s)/c[n-1])\n",
    "    N_P_Nodo[i]=float((sum(d)/c[n-1]) + (sum(s)/c[n-1]))\n",
    "\n",
    "\n",
    "\n",
    "print(\"Intervalo de confianza para el número de trabajos:\",Confianza(Numero_Trabajo))\n",
    "print(\"Tiempo Medio de LLegada: \",Confianza(T_llegada))\n",
    "print(\"Tiempo Promedio de Servicio: \",Confianza(T_Servicio))\n",
    "print(\"Tiempo Promedio de Retraso: \",Confianza(T_Retraso))\n",
    "print(\"Tiempo Promedio de Espera: \",Confianza(T_Espera))\n",
    "print(\"Tasa de LLegada: \",Confianza(Tasa_llegada))\n",
    "print(\"Tasa de Servicio: \",Confianza(Tasa_Servicio))\n",
    "print(\"Numero de Tiempo Promedio en la Cola: \",Confianza(N_P_Cola))\n",
    "print(\"Numero de Tiempo promedio en Servicio: \",Confianza(N_P_Servicio))\n",
    "print(\"Numero Promediado en el Tiempo en el Nodo: \",Confianza(N_P_Nodo))"
   ]
  },
  {
   "cell_type": "code",
   "execution_count": null,
   "metadata": {},
   "outputs": [],
   "source": []
  }
 ],
 "metadata": {
  "kernelspec": {
   "display_name": "Python 3",
   "language": "python",
   "name": "python3"
  },
  "language_info": {
   "codemirror_mode": {
    "name": "ipython",
    "version": 3
   },
   "file_extension": ".py",
   "mimetype": "text/x-python",
   "name": "python",
   "nbconvert_exporter": "python",
   "pygments_lexer": "ipython3",
   "version": "3.7.1"
  }
 },
 "nbformat": 4,
 "nbformat_minor": 2
}
